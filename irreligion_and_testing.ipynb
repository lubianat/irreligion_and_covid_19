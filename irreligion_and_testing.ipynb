{
 "cells": [
  {
   "cell_type": "markdown",
   "metadata": {},
   "source": [
    "# Ateísmo e COVID-19: Países menos religiosos respondem melhor? - Um estudo preliminar\n",
    "\n",
    "\n",
    "Que as religiões trazem conforto e estão ligadas a ações sociais nas mais diversas formas é inegável.\n",
    "\n",
    "\n",
    "Entretanto, frequentemente as atividades religiosas são acompanhadas por dogmas, que em casos colidem (direta ou indiretamente) com os estudos lógico-científicos. \n",
    "\n",
    "Será que, então, nações com populações menos religiosas reagiriam diferente ao COVID-19?\n",
    "\n",
    "\n",
    "O trabalho visa avaliar brevemente as diferenças na resposta a COVID-19 levando em consideração essa variável.\n",
    "\n",
    "\n",
    "Dados de irreligião e testagem por milhão de habitantes foram obtidos das páginas Wikipédia abaixo. \n",
    "* Dados sobre religião: https://en.wikipedia.org/w/index.php?title=List_of_countries_by_irreligion&oldid=946799645 (25/04/2020)\n",
    "* Dados sobre testagem para COVID-19 https://en.wikipedia.org/w/index.php?title=COVID-19_testing&oldid=952911161#Virus_testing_statistics_by_country (25/04/2020)\n",
    "\n"
   ]
  },
  {
   "cell_type": "code",
   "execution_count": 127,
   "metadata": {},
   "outputs": [],
   "source": [
    "import pandas as pd\n",
    "\n",
    "\n",
    "\n",
    "irreligion_article_url = \"https://en.wikipedia.org/w/index.php?title=List_of_countries_by_irreligion&oldid=946799645\"\n",
    "tables_in_irreligion_article = pd.read_html(irreligion_article_url)\n",
    "tables_in_irreligion_article[0].to_csv('irreligion_wikipedia_table.txt',  sep = \";\")\n",
    "\n",
    "irreligion_by_country = tables_in_irreligion_article[0][[\"Country or region\", \"WIN/GIA (2017)[7]\"\t]]\n",
    "irreligion_by_country.columns = [\"country\", \"irreligion_proportion\"]\n",
    "\n"
   ]
  },
  {
   "cell_type": "code",
   "execution_count": 128,
   "metadata": {},
   "outputs": [],
   "source": [
    "\n",
    "\n",
    "covid_testing_url = \"https://en.wikipedia.org/w/index.php?title=COVID-19_testing&oldid=952911161#Virus_testing_statistics_by_country\"\n",
    "tables_in_testing_article = pd.read_html(covid_testing_url)\n",
    "tables_in_testing_article[2].to_csv('covid_testing_wikipedia_table.txt',  sep = \";\")\n",
    "\n",
    "tests_per_million_by_country = tables_in_testing_article[2]\n",
    "tests_per_million_by_country = tests_per_million_by_country[[\"Country\", \"Tested /millionpeople\"]]\n",
    "tests_per_million_by_country.columns = [\"country\", \"tests_per_million\"]\n",
    "\n"
   ]
  },
  {
   "cell_type": "code",
   "execution_count": 129,
   "metadata": {},
   "outputs": [
    {
     "name": "stderr",
     "output_type": "stream",
     "text": [
      "/home/lubianat/.local/lib/python3.6/site-packages/ipykernel_launcher.py:3: SettingWithCopyWarning: \n",
      "A value is trying to be set on a copy of a slice from a DataFrame.\n",
      "Try using .loc[row_indexer,col_indexer] = value instead\n",
      "\n",
      "See the caveats in the documentation: https://pandas.pydata.org/pandas-docs/stable/user_guide/indexing.html#returning-a-view-versus-a-copy\n",
      "  This is separate from the ipykernel package so we can avoid doing imports until\n"
     ]
    },
    {
     "data": {
      "text/html": [
       "<div>\n",
       "<style scoped>\n",
       "    .dataframe tbody tr th:only-of-type {\n",
       "        vertical-align: middle;\n",
       "    }\n",
       "\n",
       "    .dataframe tbody tr th {\n",
       "        vertical-align: top;\n",
       "    }\n",
       "\n",
       "    .dataframe thead th {\n",
       "        text-align: right;\n",
       "    }\n",
       "</style>\n",
       "<table border=\"1\" class=\"dataframe\">\n",
       "  <thead>\n",
       "    <tr style=\"text-align: right;\">\n",
       "      <th></th>\n",
       "      <th>country</th>\n",
       "      <th>tests_per_million</th>\n",
       "    </tr>\n",
       "  </thead>\n",
       "  <tbody>\n",
       "    <tr>\n",
       "      <th>0</th>\n",
       "      <td>Albania</td>\n",
       "      <td>2542</td>\n",
       "    </tr>\n",
       "    <tr>\n",
       "      <th>1</th>\n",
       "      <td>Argentina</td>\n",
       "      <td>1051</td>\n",
       "    </tr>\n",
       "    <tr>\n",
       "      <th>2</th>\n",
       "      <td>Armenia</td>\n",
       "      <td>6075</td>\n",
       "    </tr>\n",
       "    <tr>\n",
       "      <th>3</th>\n",
       "      <td>Australia</td>\n",
       "      <td>19939</td>\n",
       "    </tr>\n",
       "    <tr>\n",
       "      <th>4</th>\n",
       "      <td>Austria</td>\n",
       "      <td>25569</td>\n",
       "    </tr>\n",
       "    <tr>\n",
       "      <th>...</th>\n",
       "      <td>...</td>\n",
       "      <td>...</td>\n",
       "    </tr>\n",
       "    <tr>\n",
       "      <th>82</th>\n",
       "      <td>United States</td>\n",
       "      <td>16590</td>\n",
       "    </tr>\n",
       "    <tr>\n",
       "      <th>83</th>\n",
       "      <td>Uruguay</td>\n",
       "      <td>4563</td>\n",
       "    </tr>\n",
       "    <tr>\n",
       "      <th>84</th>\n",
       "      <td>Venezuela</td>\n",
       "      <td>13644</td>\n",
       "    </tr>\n",
       "    <tr>\n",
       "      <th>85</th>\n",
       "      <td>Vietnam</td>\n",
       "      <td>2149</td>\n",
       "    </tr>\n",
       "    <tr>\n",
       "      <th>86</th>\n",
       "      <td>^ The UN does not recognize Taiwan as a sovere...</td>\n",
       "      <td>^ The UN does not recognize Taiwan as a sovere...</td>\n",
       "    </tr>\n",
       "  </tbody>\n",
       "</table>\n",
       "<p>87 rows × 2 columns</p>\n",
       "</div>"
      ],
      "text/plain": [
       "                                              country  \\\n",
       "0                                             Albania   \n",
       "1                                           Argentina   \n",
       "2                                             Armenia   \n",
       "3                                           Australia   \n",
       "4                                             Austria   \n",
       "..                                                ...   \n",
       "82                                      United States   \n",
       "83                                            Uruguay   \n",
       "84                                          Venezuela   \n",
       "85                                            Vietnam   \n",
       "86  ^ The UN does not recognize Taiwan as a sovere...   \n",
       "\n",
       "                                    tests_per_million  \n",
       "0                                                2542  \n",
       "1                                                1051  \n",
       "2                                                6075  \n",
       "3                                               19939  \n",
       "4                                               25569  \n",
       "..                                                ...  \n",
       "82                                              16590  \n",
       "83                                               4563  \n",
       "84                                              13644  \n",
       "85                                               2149  \n",
       "86  ^ The UN does not recognize Taiwan as a sovere...  \n",
       "\n",
       "[87 rows x 2 columns]"
      ]
     },
     "execution_count": 129,
     "metadata": {},
     "output_type": "execute_result"
    }
   ],
   "source": [
    "import re\n",
    "\n",
    "tests_per_million_by_country[\"country\"] = [re.sub(r\"\\[.\\]\", \"\", country).strip() for country in tests_per_million_by_country[\"country\"]]\n",
    "tests_per_million_by_country"
   ]
  },
  {
   "cell_type": "code",
   "execution_count": 130,
   "metadata": {},
   "outputs": [
    {
     "name": "stderr",
     "output_type": "stream",
     "text": [
      "/home/lubianat/.local/lib/python3.6/site-packages/ipykernel_launcher.py:3: SettingWithCopyWarning: \n",
      "A value is trying to be set on a copy of a slice from a DataFrame.\n",
      "Try using .loc[row_indexer,col_indexer] = value instead\n",
      "\n",
      "See the caveats in the documentation: https://pandas.pydata.org/pandas-docs/stable/user_guide/indexing.html#returning-a-view-versus-a-copy\n",
      "  This is separate from the ipykernel package so we can avoid doing imports until\n"
     ]
    },
    {
     "data": {
      "text/html": [
       "<div>\n",
       "<style scoped>\n",
       "    .dataframe tbody tr th:only-of-type {\n",
       "        vertical-align: middle;\n",
       "    }\n",
       "\n",
       "    .dataframe tbody tr th {\n",
       "        vertical-align: top;\n",
       "    }\n",
       "\n",
       "    .dataframe thead th {\n",
       "        text-align: right;\n",
       "    }\n",
       "</style>\n",
       "<table border=\"1\" class=\"dataframe\">\n",
       "  <thead>\n",
       "    <tr style=\"text-align: right;\">\n",
       "      <th></th>\n",
       "      <th>country</th>\n",
       "      <th>irreligion_proportion</th>\n",
       "    </tr>\n",
       "  </thead>\n",
       "  <tbody>\n",
       "    <tr>\n",
       "      <th>0</th>\n",
       "      <td>Afghanistan</td>\n",
       "      <td>NaN</td>\n",
       "    </tr>\n",
       "    <tr>\n",
       "      <th>1</th>\n",
       "      <td>Albania</td>\n",
       "      <td>39%</td>\n",
       "    </tr>\n",
       "    <tr>\n",
       "      <th>2</th>\n",
       "      <td>Argentina</td>\n",
       "      <td>34%</td>\n",
       "    </tr>\n",
       "    <tr>\n",
       "      <th>3</th>\n",
       "      <td>Armenia</td>\n",
       "      <td>6%</td>\n",
       "    </tr>\n",
       "    <tr>\n",
       "      <th>4</th>\n",
       "      <td>Australia</td>\n",
       "      <td>63%</td>\n",
       "    </tr>\n",
       "    <tr>\n",
       "      <th>...</th>\n",
       "      <td>...</td>\n",
       "      <td>...</td>\n",
       "    </tr>\n",
       "    <tr>\n",
       "      <th>94</th>\n",
       "      <td>United States</td>\n",
       "      <td>39%</td>\n",
       "    </tr>\n",
       "    <tr>\n",
       "      <th>95</th>\n",
       "      <td>Uruguay</td>\n",
       "      <td>NaN</td>\n",
       "    </tr>\n",
       "    <tr>\n",
       "      <th>96</th>\n",
       "      <td>Uzbekistan</td>\n",
       "      <td>NaN</td>\n",
       "    </tr>\n",
       "    <tr>\n",
       "      <th>97</th>\n",
       "      <td>Venezuela</td>\n",
       "      <td>NaN</td>\n",
       "    </tr>\n",
       "    <tr>\n",
       "      <th>98</th>\n",
       "      <td>Vietnam</td>\n",
       "      <td>63%</td>\n",
       "    </tr>\n",
       "  </tbody>\n",
       "</table>\n",
       "<p>99 rows × 2 columns</p>\n",
       "</div>"
      ],
      "text/plain": [
       "          country irreligion_proportion\n",
       "0     Afghanistan                   NaN\n",
       "1         Albania                   39%\n",
       "2       Argentina                   34%\n",
       "3         Armenia                    6%\n",
       "4       Australia                   63%\n",
       "..            ...                   ...\n",
       "94  United States                   39%\n",
       "95        Uruguay                   NaN\n",
       "96     Uzbekistan                   NaN\n",
       "97      Venezuela                   NaN\n",
       "98        Vietnam                   63%\n",
       "\n",
       "[99 rows x 2 columns]"
      ]
     },
     "execution_count": 130,
     "metadata": {},
     "output_type": "execute_result"
    }
   ],
   "source": [
    "import re\n",
    "\n",
    "irreligion_by_country[\"country\"] = [re.sub(r\" \\(details\\)\", \"\", country).strip() for country in irreligion_by_country[\"country\"]]\n",
    "irreligion_by_country"
   ]
  },
  {
   "cell_type": "code",
   "execution_count": 131,
   "metadata": {},
   "outputs": [
    {
     "name": "stdout",
     "output_type": "stream",
     "text": [
      "     country irreligion_proportion tests_per_million\n",
      "0    Albania                   39%              2542\n",
      "1  Argentina                   34%              1051\n",
      "2    Armenia                    6%              6075\n",
      "3  Australia                   63%             19939\n",
      "4    Austria                   53%             25569\n"
     ]
    }
   ],
   "source": [
    "import numpy as np\n",
    "\n",
    "\n",
    "\n",
    "irreligion_and_tests_df = irreligion_by_country.merge(tests_per_million_by_country, on = 'country')\n",
    "print(irreligion_and_tests_df.head())\n"
   ]
  },
  {
   "cell_type": "code",
   "execution_count": 132,
   "metadata": {},
   "outputs": [],
   "source": [
    "irreligion_and_tests_df = irreligion_and_tests_df[irreligion_and_tests_df[\"irreligion_proportion\"] != \" \"]\n",
    "irreligion_and_tests_df = irreligion_and_tests_df.dropna(axis = \"rows\")"
   ]
  },
  {
   "cell_type": "code",
   "execution_count": 133,
   "metadata": {},
   "outputs": [
    {
     "data": {
      "text/html": [
       "<div>\n",
       "<style scoped>\n",
       "    .dataframe tbody tr th:only-of-type {\n",
       "        vertical-align: middle;\n",
       "    }\n",
       "\n",
       "    .dataframe tbody tr th {\n",
       "        vertical-align: top;\n",
       "    }\n",
       "\n",
       "    .dataframe thead th {\n",
       "        text-align: right;\n",
       "    }\n",
       "</style>\n",
       "<table border=\"1\" class=\"dataframe\">\n",
       "  <thead>\n",
       "    <tr style=\"text-align: right;\">\n",
       "      <th></th>\n",
       "      <th>country</th>\n",
       "      <th>irreligion_proportion</th>\n",
       "      <th>tests_per_million</th>\n",
       "    </tr>\n",
       "  </thead>\n",
       "  <tbody>\n",
       "    <tr>\n",
       "      <th>0</th>\n",
       "      <td>Albania</td>\n",
       "      <td>39%</td>\n",
       "      <td>2542</td>\n",
       "    </tr>\n",
       "  </tbody>\n",
       "</table>\n",
       "</div>"
      ],
      "text/plain": [
       "   country irreligion_proportion tests_per_million\n",
       "0  Albania                   39%              2542"
      ]
     },
     "execution_count": 133,
     "metadata": {},
     "output_type": "execute_result"
    }
   ],
   "source": [
    "irreligion_and_tests_df.head(1)"
   ]
  },
  {
   "cell_type": "code",
   "execution_count": 134,
   "metadata": {},
   "outputs": [],
   "source": [
    "def get_proportion(percentage_string):\n",
    "    number_to_be_divided = float(percentage_string.strip(\"%\"))\n",
    "    proportion = number_to_be_divided/100\n",
    "    return(proportion)\n",
    "\n",
    "\n",
    "irreligion_and_tests_df[\"irreligion_proportion\"] = irreligion_and_tests_df[\"irreligion_proportion\"].map(get_proportion)\n",
    "\n"
   ]
  },
  {
   "cell_type": "code",
   "execution_count": 135,
   "metadata": {},
   "outputs": [],
   "source": [
    "irreligion_and_tests_df[\"tests_per_million\"] = [int(test_number.replace(\",\", \"\")) for test_number in irreligion_and_tests_df[\"tests_per_million\"] ]"
   ]
  },
  {
   "cell_type": "code",
   "execution_count": 136,
   "metadata": {},
   "outputs": [
    {
     "data": {
      "text/plain": [
       "[Text(0, 0.5, 'Testes por milhão de habitantes'),\n",
       " Text(0.5, 0, 'Proporção de pessoas não religiosas')]"
      ]
     },
     "execution_count": 136,
     "metadata": {},
     "output_type": "execute_result"
    },
    {
     "data": {
      "image/png": "[encoded data removed]",
      "text/plain": [
       "<Figure size 432x288 with 1 Axes>"
      ]
     },
     "metadata": {},
     "output_type": "display_data"
    }
   ],
   "source": [
    "import seaborn as sns; sns.set()\n",
    "import matplotlib.pyplot as plt\n",
    "\n",
    "\n",
    "ax = sns.regplot(x=\"irreligion_proportion\", y=\"tests_per_million\", data=irreligion_and_tests_df)\n",
    "ax.set(xlabel='Proporção de pessoas não religiosas', ylabel='Testes por milhão de habitantes')"
   ]
  },
  {
   "cell_type": "code",
   "execution_count": 140,
   "metadata": {},
   "outputs": [
    {
     "data": {
      "text/html": [
       "<div>\n",
       "<style scoped>\n",
       "    .dataframe tbody tr th:only-of-type {\n",
       "        vertical-align: middle;\n",
       "    }\n",
       "\n",
       "    .dataframe tbody tr th {\n",
       "        vertical-align: top;\n",
       "    }\n",
       "\n",
       "    .dataframe thead th {\n",
       "        text-align: right;\n",
       "    }\n",
       "</style>\n",
       "<table border=\"1\" class=\"dataframe\">\n",
       "  <thead>\n",
       "    <tr style=\"text-align: right;\">\n",
       "      <th></th>\n",
       "      <th>country</th>\n",
       "      <th>irreligion_proportion</th>\n",
       "      <th>tests_per_million</th>\n",
       "    </tr>\n",
       "  </thead>\n",
       "  <tbody>\n",
       "    <tr>\n",
       "      <th>24</th>\n",
       "      <td>Iceland</td>\n",
       "      <td>0.49</td>\n",
       "      <td>127250</td>\n",
       "    </tr>\n",
       "  </tbody>\n",
       "</table>\n",
       "</div>"
      ],
      "text/plain": [
       "    country  irreligion_proportion  tests_per_million\n",
       "24  Iceland                   0.49             127250"
      ]
     },
     "execution_count": 140,
     "metadata": {},
     "output_type": "execute_result"
    }
   ],
   "source": [
    "max_testes = max(irreligion_and_tests_df[\"tests_per_million\"] )\n",
    "\n",
    "irreligion_and_tests_df.query(\"tests_per_million == \" + str(max_testes))\n",
    "\n",
    "# O país com mais testes é a islândia, que tem uma população pequena e testa muito"
   ]
  },
  {
   "cell_type": "code",
   "execution_count": 101,
   "metadata": {},
   "outputs": [
    {
     "data": {
      "text/plain": [
       "SpearmanrResult(correlation=0.5930019796961882, pvalue=2.8845246370413708e-06)"
      ]
     },
     "execution_count": 101,
     "metadata": {},
     "output_type": "execute_result"
    }
   ],
   "source": [
    "from scipy.stats import spearmanr\n",
    "\n",
    "spearmanr(irreligion_and_tests_df[\"irreligion_proportion\"], irreligion_and_tests_df[\"tests_per_million\"])"
   ]
  },
  {
   "cell_type": "markdown",
   "metadata": {},
   "source": [
    "# Breve discussão e conclusão do trabalho:\n",
    "\n",
    "Com uma correlação positiva moderada de 0.59 e um valor p de menos que 0,001, dá para afirmar que há uma correlação entre irreligiosidade e intensidade da resposta ao COVID-19. \n",
    "\n",
    "O valor p indica, grosso modo, a proporção de vezes que você veria uma correlação de 0.59 ou maior se os valores fossem aleatórios para as duas coisas comparadas. \n",
    "\n",
    "Correlação não siginifca, causalidade, entretanto, e este é apenas um resultado preliminar. \n",
    "\n",
    "O resultado observado indica que o tema vale ser explorado com maior profundidade para compreender melhor as respostas nacionais à pandemia. "
   ]
  },
  {
   "cell_type": "code",
   "execution_count": null,
   "metadata": {},
   "outputs": [],
   "source": []
  },
  {
   "cell_type": "code",
   "execution_count": null,
   "metadata": {},
   "outputs": [],
   "source": []
  }
 ],
 "metadata": {
  "kernelspec": {
   "display_name": "Python 3",
   "language": "python",
   "name": "python3"
  },
  "language_info": {
   "codemirror_mode": {
    "name": "ipython",
    "version": 3
   },
   "file_extension": ".py",
   "mimetype": "text/x-python",
   "name": "python",
   "nbconvert_exporter": "python",
   "pygments_lexer": "ipython3",
   "version": "3.6.9"
  }
 },
 "nbformat": 4,
 "nbformat_minor": 4
}
