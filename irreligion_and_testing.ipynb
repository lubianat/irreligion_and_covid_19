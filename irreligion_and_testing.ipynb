{
 "cells": [
  {
   "cell_type": "markdown",
   "metadata": {},
   "source": [
    "# Ateísmo e COVID-19: Países menos religiosos respondem melhor? - Um estudo preliminar\n",
    "\n",
    "\n",
    "Que as religiões trazem conforto e estão ligadas a ações sociais nas mais diversas formas é inegável.\n",
    "\n",
    "\n",
    "Entretanto, frequentemente as atividades religiosas são acompanhadas por dogmas, que em casos colidem (direta ou indiretamente) com os estudos lógico-científicos. \n",
    "\n",
    "Será que, então, nações com populações menos religiosas reagiriam diferente ao COVID-19?\n",
    "\n",
    "\n",
    "O trabalho visa avaliar brevemente as diferenças na resposta a COVID-19 levando em consideração essa variável.\n",
    "\n",
    "\n",
    "Dados de irreligião e testagem por milhão de habitantes foram obtidos das páginas Wikipédia abaixo. \n",
    "* Dados sobre religião: https://en.wikipedia.org/w/index.php?title=List_of_countries_by_irreligion&oldid=946799645 (25/04/2020)\n",
    "* Dados sobre testagem para COVID-19 https://en.wikipedia.org/w/index.php?title=COVID-19_testing&oldid=952911161#Virus_testing_statistics_by_country (25/04/2020)\n",
    "\n"
   ]
  },
  {
   "cell_type": "markdown",
   "metadata": {},
   "source": []
  },
  {
   "cell_type": "code",
   "execution_count": 1,
   "metadata": {},
   "outputs": [],
   "source": [
    "\n",
    "# Obtendo as páginas da Wikipédia em formato HTML\n",
    "\n",
    "import urllib.request\n",
    "\n",
    "irreligion_article_url = \"https://en.wikipedia.org/w/index.php?title=List_of_countries_by_irreligion&oldid=946799645\"\n",
    "\n",
    "\n",
    "req = urllib.request.urlopen(irreligion_article_url)\n",
    "article = req.read().decode()\n",
    "\n",
    "with open('irreligion_wikipedia.html', 'w') as fo:\n",
    "    fo.write(article)\n",
    "\n",
    "covid_testing_url = \"https://en.wikipedia.org/w/index.php?title=COVID-19_testing&oldid=952911161#Virus_testing_statistics_by_country\"\n",
    "\n",
    "\n",
    "req = urllib.request.urlopen(covid_testing_url)\n",
    "article = req.read().decode()\n",
    "\n",
    "with open('covid_testing_wikipedia.html', 'w') as fo:\n",
    "    fo.write(article)\n",
    "  \n",
    "    \n",
    "    "
   ]
  },
  {
   "cell_type": "code",
   "execution_count": 2,
   "metadata": {},
   "outputs": [],
   "source": [
    "# Extraindo as tabelas de interesse\n",
    "\n",
    "\n",
    "## Primeiro para a irreligião \n",
    "\n",
    "\n",
    "from bs4 import BeautifulSoup\n",
    "\n",
    "# Load article, turn into soup and get the <table>s.\n",
    "article = open('irreligion_wikipedia.html').read()\n",
    "soup = BeautifulSoup(article, 'html.parser')\n",
    "tables = soup.find_all('table', class_='sortable')\n",
    "\n",
    "# Search through the tables for the one with the headings we want.\n",
    "for table in tables:\n",
    "    ths = table.find_all('th')\n",
    "    headings = [th.text.strip() for th in ths]\n",
    "    if headings[0] == 'Country or region':\n",
    "        break\n",
    "\n",
    "# Extract the columns we want and write to a semicolon-delimited text file.\n",
    "with open('irreligion_wikipedia_table.txt', 'w') as fo:\n",
    "    for tr in table.find_all('tr'):\n",
    "        tds = tr.find_all('td')\n",
    "        if not tds:\n",
    "            continue\n",
    "        country, irreligion = [td.text.strip() for td in tds[:2]]\n",
    "        # Wikipedia does something funny with country names containing\n",
    "        # accented characters: extract the correct string form.\n",
    "        if '!' in country:\n",
    "            country = country[country.index('!')+1:]\n",
    "        print('; '.join([country, irreligion]), file=fo)"
   ]
  },
  {
   "cell_type": "code",
   "execution_count": 3,
   "metadata": {},
   "outputs": [],
   "source": [
    "## Agora para os testes de covid-19\n",
    "\n",
    "\n",
    "# Load article, turn into soup and get the <table>s.\n",
    "article = open('covid_testing_wikipedia.html').read()\n",
    "soup = BeautifulSoup(article, 'html.parser')\n",
    "tables = soup.find_all('table', class_='sortable')\n",
    "\n",
    "# Search through the tables for the one with the headings we want.\n",
    "for table in tables:\n",
    "    ths = table.find_all('th')\n",
    "    headings = [th.text.strip() for th in ths]\n",
    "    if headings[0] == 'Country':\n",
    "        break\n",
    "\n",
    "# Extract the columns we want and write to a semicolon-delimited text file.\n",
    "with open('covid_testing_table.txt', 'w') as fo:\n",
    "    for tr in table.find_all('tr'):\n",
    "        tds = tr.find_all('td')\n",
    "        ths = tr.find_all('th')\n",
    "        if not tds:\n",
    "            continue\n",
    "        for th in ths:\n",
    "            country = ths[0].text.strip()\n",
    "        if country == \"Vietnam\": break\n",
    "        tests_by_million_people = tds[4].text.strip()\n",
    "        # Wikipedia does something funny with country names containing\n",
    "        # accented characters: extract the correct string form.\n",
    "        if '!' in country:\n",
    "            country = country[country.index('!')+1:]\n",
    "        print('; '.join([country, tests_by_million_people]), file=fo)"
   ]
  },
  {
   "cell_type": "code",
   "execution_count": 4,
   "metadata": {},
   "outputs": [],
   "source": [
    "import pandas as pd\n",
    "irreligion_by_country = pd.read_csv(\"irreligion_wikipedia_table.txt\", header = None, sep = \";\", names=[\"country\", \"irreligion_proportion\"])\n",
    "tests_per_million_by_country = pd.read_csv(\"covid_testing_table.txt\", header = None, sep = \";\", names=[\"country\", \"tests_per_million\"])"
   ]
  },
  {
   "cell_type": "code",
   "execution_count": 5,
   "metadata": {},
   "outputs": [],
   "source": [
    "import re\n",
    "\n",
    "tests_per_million_by_country[\"country\"] = [re.sub(r\"\\[.\\]\", \"\", country).strip() for country in tests_per_million_by_country[\"country\"]]\n"
   ]
  },
  {
   "cell_type": "code",
   "execution_count": 6,
   "metadata": {},
   "outputs": [],
   "source": [
    "import re\n",
    "\n",
    "irreligion_by_country[\"country\"] = [re.sub(r\" \\(details\\)\", \"\", country).strip() for country in irreligion_by_country[\"country\"]]\n"
   ]
  },
  {
   "cell_type": "code",
   "execution_count": 7,
   "metadata": {},
   "outputs": [],
   "source": [
    "import numpy as np\n",
    "\n",
    "\n",
    "\n",
    "irreligion_and_tests_df = irreligion_by_country.merge(tests_per_million_by_country, on = 'country')\n",
    "irreligion_and_tests_df = irreligion_and_tests_df[irreligion_and_tests_df[\"irreligion_proportion\"] != \" \"]\n",
    "irreligion_and_tests_df = irreligion_and_tests_df.dropna(axis = \"columns\")\n"
   ]
  },
  {
   "cell_type": "code",
   "execution_count": 8,
   "metadata": {},
   "outputs": [],
   "source": [
    "def get_proportion(percentage_string):\n",
    "    number_to_be_divided = float(percentage_string.strip(\"%\"))\n",
    "    proportion = number_to_be_divided/100\n",
    "    return(proportion)\n",
    "\n",
    "\n",
    "irreligion_and_tests_df[\"irreligion_proportion\"] = [get_proportion(percentage) for percentage in irreligion_and_tests_df[\"irreligion_proportion\"] ]\n",
    "\n",
    "\n",
    "\n",
    "\n",
    "irreligion_and_tests_df[\"tests_per_million\"] = [int(test_number.replace(\",\", \"\")) for test_number in irreligion_and_tests_df[\"tests_per_million\"] ]\n"
   ]
  },
  {
   "cell_type": "code",
   "execution_count": 9,
   "metadata": {},
   "outputs": [
    {
     "data": {
      "image/png": "[encoded data removed]",
      "text/plain": [
       "<Figure size 432x288 with 1 Axes>"
      ]
     },
     "metadata": {},
     "output_type": "display_data"
    }
   ],
   "source": [
    "import seaborn as sns; sns.set()\n",
    "import matplotlib.pyplot as plt\n",
    "\n",
    "\n",
    "ax = sns.regplot(x=\"irreligion_proportion\", y=\"tests_per_million\", data=irreligion_and_tests_df)\n",
    "ax.set(xlabel='Proporção de pessoas não religiosas', ylabel='T')"
   ]
  },
  {
   "cell_type": "code",
   "execution_count": 10,
   "metadata": {},
   "outputs": [
    {
     "data": {
      "text/plain": [
       "24    Iceland\n",
       "Name: country, dtype: object"
      ]
     },
     "execution_count": 10,
     "metadata": {},
     "output_type": "execute_result"
    }
   ],
   "source": [
    "len(irreligion_and_tests_df[\"tests_per_million\"])\n",
    "\n",
    "irreligion_and_tests_df[\"country\"][irreligion_and_tests_df[\"tests_per_million\"] == 126204]\n",
    "\n",
    "# O país com mais testes é a islândia, que tem uma população pequena e testa muito"
   ]
  },
  {
   "cell_type": "code",
   "execution_count": 11,
   "metadata": {},
   "outputs": [
    {
     "data": {
      "text/plain": [
       "SpearmanrResult(correlation=0.6349349408735319, pvalue=4.2924622978422285e-07)"
      ]
     },
     "execution_count": 11,
     "metadata": {},
     "output_type": "execute_result"
    }
   ],
   "source": [
    "from scipy.stats import spearmanr\n",
    "\n",
    "spearmanr(irreligion_and_tests_df[\"irreligion_proportion\"], irreligion_and_tests_df[\"tests_per_million\"])"
   ]
  },
  {
   "cell_type": "markdown",
   "metadata": {},
   "source": [
    "# Breve discussão e conclusão do trabalho:\n",
    "\n",
    "Com uma correlação positiva moderada de 0.63 e um valor p de 0,0000004, dá para afirmar que há uma correlação entre irreligiosidade e intensidade da resposta ao COVID-19. \n",
    "\n",
    "O valor p indica, grosso modo, a proporção de vezes que você veria uma correlação de 0.63 ou maior se os valores fossem aleatórios para as duas coisas comparadas. \n",
    "\n",
    "Correlação não siginifca, causalidade, entretanto, e este é apenas um resultado preliminar. \n",
    "\n",
    "O resultado observado indica que o tema vale ser explorado com maior profundidade para compreender melhor as respostas nacionais à pandemia. "
   ]
  },
  {
   "cell_type": "code",
   "execution_count": null,
   "metadata": {},
   "outputs": [],
   "source": []
  }
 ],
 "metadata": {
  "kernelspec": {
   "display_name": "Python 3",
   "language": "python",
   "name": "python3"
  },
  "language_info": {
   "codemirror_mode": {
    "name": "ipython",
    "version": 3
   },
   "file_extension": ".py",
   "mimetype": "text/x-python",
   "name": "python",
   "nbconvert_exporter": "python",
   "pygments_lexer": "ipython3",
   "version": "3.6.9"
  }
 },
 "nbformat": 4,
 "nbformat_minor": 4
}
